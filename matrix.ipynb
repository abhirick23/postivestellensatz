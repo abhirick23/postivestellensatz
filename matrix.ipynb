{
 "cells": [
  {
   "cell_type": "code",
   "execution_count": 2,
   "metadata": {},
   "outputs": [],
   "source": [
    "import sympy as sp"
   ]
  },
  {
   "cell_type": "code",
   "execution_count": 3,
   "metadata": {},
   "outputs": [],
   "source": [
    "def initialize_matrices(n):\n",
    "    # Create symbolic variables for the n*n matrix and the n*1 vector\n",
    "    # The elements of the matrix will be named as a_ij for the (i, j)-th element\n",
    "    # The elements of the vector will be named as b_i for the i-th element\n",
    "    \n",
    "    # Create an n x n symbolic matrix\n",
    "    matrix_A = sp.Matrix(n, n, lambda i, j: sp.symbols(f'a_{i+1}{j+1}'))\n",
    "    \n",
    "    x = sp.symbols('x')\n",
    "    vector_B = sp.Matrix([x**i for i in range(n)])\n",
    "    \n",
    "    vector_A = vector_B.transpose()\n",
    "    \n",
    "    return matrix_A, vector_B,vector_A"
   ]
  },
  {
   "cell_type": "code",
   "execution_count": 4,
   "metadata": {},
   "outputs": [],
   "source": [
    "def group_polynomial_coefficients(expression, variable):\n",
    "    # Convert the expression to a SymPy Poly object\n",
    "    poly = sp.Poly(expression, variable)\n",
    "    \n",
    "    # Get the terms and their coefficients as a dictionary\n",
    "    term_dict = poly.as_dict()\n",
    "    \n",
    "    # Create a dictionary to group coefficients by their powers\n",
    "    grouped_coefficients = {}\n",
    "    \n",
    "    for term, coeff in term_dict.items():\n",
    "        # Term is a tuple where the first element is the power of the variable\n",
    "        power = term[0]\n",
    "        \n",
    "        if power in grouped_coefficients:\n",
    "            grouped_coefficients[power] += coeff\n",
    "        else:\n",
    "            grouped_coefficients[power] = coeff\n",
    "    \n",
    "    return grouped_coefficients"
   ]
  },
  {
   "cell_type": "code",
   "execution_count": 5,
   "metadata": {},
   "outputs": [],
   "source": [
    "def coefficiating(final_matrix):\n",
    "    x = sp.symbols('x')\n",
    "    # Group the polynomial coefficients\n",
    "    grouped_coeffs = group_polynomial_coefficients(final_matrix, x)\n",
    "\n",
    "\n",
    "    for power, coeff in grouped_coeffs.items():\n",
    "        pass\n",
    "        \n",
    "    grouped= group_polynomial_coefficients(coeff, x)\n",
    "    print(\" coefficients by powers of x:\")\n",
    "    for powe, coef in grouped.items():\n",
    "        print(f\"x^{powe}: {coef}\")\n",
    "    return grouped"
   ]
  },
  {
   "cell_type": "code",
   "execution_count": 6,
   "metadata": {},
   "outputs": [],
   "source": [
    "def result(grouped):\n",
    "    # Initialize an empty polynomial expression\n",
    "    output = 0\n",
    "    # Create the polynomial expression by combining coefficients and their powers\n",
    "    for power, coeff in grouped.items():\n",
    "        output += sp.sympify(coeff) * sp.symbols('x')**power\n",
    "    sp.pprint(output)\n",
    "    return output"
   ]
  },
  {
   "cell_type": "code",
   "execution_count": 7,
   "metadata": {},
   "outputs": [
    {
     "name": "stdout",
     "output_type": "stream",
     "text": [
      "Initialized 3*3 matrix A:\n",
      "⎡a₁₁  a₁₂  a₁₃⎤\n",
      "⎢             ⎥\n",
      "⎢a₂₁  a₂₂  a₂₃⎥\n",
      "⎢             ⎥\n",
      "⎣a₃₁  a₃₂  a₃₃⎦\n",
      "\n",
      "Initialized 3*1 vector B:\n",
      "⎡1 ⎤\n",
      "⎢  ⎥\n",
      "⎢x ⎥\n",
      "⎢  ⎥\n",
      "⎢ 2⎥\n",
      "⎣x ⎦\n",
      "\n",
      "Initialized 1*3 vector B:\n",
      "⎡       2⎤\n",
      "⎣1  x  x ⎦\n",
      "⎡                   2                2        3        2        3        4⎤\n",
      "⎣a₁₁ + a₁₂⋅x + a₁₃⋅x  + a₂₁⋅x + a₂₂⋅x  + a₂₃⋅x  + a₃₁⋅x  + a₃₂⋅x  + a₃₃⋅x ⎦\n",
      " coefficients by powers of x:\n",
      "x^0: a_11\n",
      "x^1: a_12 + a_21\n",
      "x^2: a_13 + a_22 + a_31\n",
      "x^3: a_23 + a_32\n",
      "x^4: a_33\n",
      "           4    3                2                                  \n",
      "a₁₁ + a₃₃⋅x  + x ⋅(a₂₃ + a₃₂) + x ⋅(a₁₃ + a₂₂ + a₃₁) + x⋅(a₁₂ + a₂₁)\n"
     ]
    }
   ],
   "source": [
    "# Main program to get input and create the matrices\n",
    "if __name__ == \"__main__\":\n",
    "    # Take input for n\n",
    "    n = int(input(\"Enter the size n for the n*n matrix and n*1 vector: \"))\n",
    "    \n",
    "    # Initialize the matrices\n",
    "    A, B, C = initialize_matrices(n)\n",
    "    \n",
    "    # Print the initialized matrices\n",
    "    print(f\"Initialized {n}*{n} matrix A:\")\n",
    "    sp.pprint(A)\n",
    "    \n",
    "    print(f\"\\nInitialized {n}*1 vector B:\")\n",
    "    sp.pprint(B)\n",
    "    \n",
    "    print(f\"\\nInitialized 1*{n} vector B:\")\n",
    "    sp.pprint(C)\n",
    "    \n",
    "    CAB = C * A * B\n",
    "    sp.pprint(sp.expand(CAB))\n",
    "    final_matrix = sp.expand(CAB)\n",
    "    coeffients = coefficiating(final_matrix)\n",
    "    \n",
    "    final_poly = result(coeffients)"
   ]
  },
  {
   "cell_type": "code",
   "execution_count": 8,
   "metadata": {},
   "outputs": [
    {
     "data": {
      "text/latex": [
       "$\\displaystyle a_{11} + a_{33} x^{4} + x^{3} \\left(a_{23} + a_{32}\\right) + x^{2} \\left(a_{13} + a_{22} + a_{31}\\right) + x \\left(a_{12} + a_{21}\\right)$"
      ],
      "text/plain": [
       "a_11 + a_33*x**4 + x**3*(a_23 + a_32) + x**2*(a_13 + a_22 + a_31) + x*(a_12 + a_21)"
      ]
     },
     "execution_count": 8,
     "metadata": {},
     "output_type": "execute_result"
    }
   ],
   "source": [
    "final_poly"
   ]
  }
 ],
 "metadata": {
  "kernelspec": {
   "display_name": "Python 3",
   "language": "python",
   "name": "python3"
  },
  "language_info": {
   "codemirror_mode": {
    "name": "ipython",
    "version": 3
   },
   "file_extension": ".py",
   "mimetype": "text/x-python",
   "name": "python",
   "nbconvert_exporter": "python",
   "pygments_lexer": "ipython3",
   "version": "3.10.3"
  }
 },
 "nbformat": 4,
 "nbformat_minor": 2
}
