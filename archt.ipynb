{
 "cells": [
  {
   "cell_type": "code",
   "execution_count": 1,
   "metadata": {},
   "outputs": [],
   "source": [
    "from collections import defaultdict\n",
    "from fractions import Fraction"
   ]
  },
  {
   "cell_type": "code",
   "execution_count": 2,
   "metadata": {},
   "outputs": [],
   "source": [
    "# Class to represent numbers (integers and rationals)\n",
    "class Num:\n",
    "    def __init__(self, value):\n",
    "        if isinstance(value, int) or isinstance(value, Fraction):\n",
    "            self.value = Fraction(value)\n",
    "        else:\n",
    "            raise ValueError(\"Only integers or rational numbers are allowed in Num class.\")\n",
    "\n",
    "    def __str__(self):\n",
    "        return str(self.value)\n",
    "\n",
    "    def __repr__(self):\n",
    "        return f\"Num({self.value})\"\n",
    "\n",
    "# Class to represent symbols (like variables in polynomials)\n",
    "class Sym:\n",
    "    def __init__(self, name):\n",
    "        self.name = name\n",
    "\n",
    "    def __str__(self):\n",
    "        return self.name\n",
    "\n",
    "    def __repr__(self):\n",
    "        return f\"Sym('{self.name}')\"\n"
   ]
  },
  {
   "cell_type": "code",
   "execution_count": 3,
   "metadata": {},
   "outputs": [],
   "source": [
    "# Class to represent polynomials\n",
    "class Poly:\n",
    "    def __init__(self, terms=None):\n",
    "        # Terms are represented as a dictionary with symbols as keys and coefficients as values\n",
    "        if terms is None:\n",
    "            self.terms = defaultdict(Num)\n",
    "        else:\n",
    "            self.terms = defaultdict(Num, terms)\n",
    "\n",
    "    def __str__(self):\n",
    "        return ' + '.join(f\"{v}*{k}\" if k else str(v) for k, v in self.terms.items())\n",
    "\n",
    "    def __repr__(self):\n",
    "        return f\"Poly({dict(self.terms)})\"\n",
    "\n",
    "    # Polynomial addition\n",
    "    def add(self, other):\n",
    "        result = Poly(self.terms.copy())  # Start with a copy of the current polynomial\n",
    "        for sym, coeff in other.terms.items():\n",
    "            if sym in result.terms:\n",
    "                result.terms[sym] = Num(result.terms[sym].value + coeff.value)  # Add coefficients\n",
    "            else:\n",
    "                result.terms[sym] = coeff  # Add new term\n",
    "        return result\n",
    "\n",
    "    # Polynomial subtraction\n",
    "    def sub(self, other):\n",
    "        result = Poly(self.terms.copy())\n",
    "        for sym, coeff in other.terms.items():\n",
    "            if sym in result.terms:\n",
    "                result.terms[sym] = Num(result.terms[sym].value - coeff.value)  # Subtract coefficients\n",
    "            else:\n",
    "                result.terms[sym] = Num(-coeff.value)  # Add negative term\n",
    "        return result\n",
    "\n",
    "    # Polynomial multiplication\n",
    "    # def mul(self, other):\n",
    "    #     result = Poly()\n",
    "    #     for sym1, coeff1 in self.terms.items():\n",
    "    #         for sym2, coeff2 in other.terms.items():\n",
    "    #             new_sym = sym1 + sym2 if sym1 and sym2 else sym1 or sym2  # Concatenate symbols if both exist\n",
    "    #             if new_sym in result.terms:\n",
    "    #                 result.terms[new_sym] = Num(result.terms[new_sym].value + coeff1.value * coeff2.value)\n",
    "    #             else:\n",
    "    #                 result.terms[new_sym] = Num(coeff1.value * coeff2.value)\n",
    "    #     return result\n",
    "    \n",
    "    def mul(self, other):\n",
    "        result = Poly()\n",
    "        for sym1, coeff1 in self.terms.items():\n",
    "            for sym2, coeff2 in other.terms.items():\n",
    "                # Concatenate symbols if both exist, otherwise use the non-empty one\n",
    "                if isinstance(sym1, Sym) and isinstance(sym2, Sym):\n",
    "                    new_sym = Sym(str(sym1) + '*' + str(sym2))  # Concatenate symbol names\n",
    "                else:\n",
    "                    new_sym = sym1 or sym2  # Use non-empty symbol if only one exists\n",
    "\n",
    "                if new_sym in result.terms:\n",
    "                    result.terms[new_sym] = Num(result.terms[new_sym].value + coeff1.value * coeff2.value)\n",
    "                else:\n",
    "                    result.terms[new_sym] = Num(coeff1.value * coeff2.value)\n",
    "        return result\n",
    "    \n",
    "    def substitute(self, old_sym, new_expr):\n",
    "        result = Poly()\n",
    "        for sym, coeff in self.terms.items():\n",
    "            # If the current term contains the symbol to substitute, replace it with the new expression\n",
    "            if sym == old_sym:\n",
    "                if isinstance(new_expr, Poly):\n",
    "                    # Multiply the coefficient by the substituted polynomial if the new expression is a polynomial\n",
    "                    for new_sym, new_coeff in new_expr.terms.items():\n",
    "                        result = result.add(Poly({new_sym: Num(coeff.value * new_coeff.value)}))\n",
    "                else:\n",
    "                    result = result.add(Poly({new_expr: coeff}))  # Simply replace the symbol with the new expression\n",
    "            else:\n",
    "                result = result.add(Poly({sym: coeff}))  # Keep other terms unchanged\n",
    "        return result\n",
    "\n",
    "    def __repr__(self):\n",
    "        return \" + \".join([f\"{coeff.value} * {sym}\" for sym, coeff in self.terms.items()])\n",
    "\n"
   ]
  },
  {
   "cell_type": "code",
   "execution_count": 4,
   "metadata": {},
   "outputs": [],
   "source": [
    "# Example usage of Num and Sym\n",
    "x = Sym('x')\n",
    "y = Sym('y')\n",
    "\n",
    "\n",
    "# Polynomial: 2*x + 3*y\n",
    "p1 = Poly({x: Num(2), y: Num(3)})\n",
    "\n",
    "# Polynomial: 5*x + 4\n",
    "p2 = Poly({x: Num(5), '': Num(4)})  # Empty string represents the constant term\n",
    "\n",
    "p3 = Poly({x: Num(-3), y: Num(9), '':Num(-6)})"
   ]
  },
  {
   "cell_type": "code",
   "execution_count": 5,
   "metadata": {},
   "outputs": [
    {
     "name": "stdout",
     "output_type": "stream",
     "text": [
      "p1 + p2 = 7*x + 3*y + 4\n",
      "p1 - p2 = -3*x + 3*y + -4\n",
      "p1 * p2 = 10*x*x + 8*x + 15*y*x + 12*y\n"
     ]
    }
   ],
   "source": [
    "\n",
    "\n",
    "# Adding p1 and p2: (2*x + 3*y) + (5*x + 4)\n",
    "p_add = p1.add(p2)\n",
    "print(f\"p1 + p2 = {p_add}\")\n",
    "\n",
    "# Subtracting p2 from p1: (2*x + 3*y) - (5*x + 4)\n",
    "p_sub = p1.sub(p2)\n",
    "print(f\"p1 - p2 = {p_sub}\")\n",
    "\n",
    "# Multiplying p1 and p2: (2*x + 3*y) * (5*x + 4)\n",
    "p_mul = p1.mul(p2)\n",
    "print(f\"p1 * p2 = {p_mul}\")\n",
    "\n"
   ]
  },
  {
   "cell_type": "code",
   "execution_count": 6,
   "metadata": {},
   "outputs": [],
   "source": [
    "x = Sym('x')\n",
    "y = Sym('y')\n",
    "a = Num(1)  # Assign numerical values for simplicity\n",
    "b = Num(1)\n",
    "c = Num(1)\n"
   ]
  },
  {
   "cell_type": "code",
   "execution_count": 7,
   "metadata": {},
   "outputs": [],
   "source": [
    "# Define a helper function to handle powers\n",
    "def power(sym, exp):\n",
    "    if exp == 1:\n",
    "        return sym\n",
    "    else:\n",
    "        return Sym(f\"{sym.name}^{exp}\")"
   ]
  },
  {
   "cell_type": "code",
   "execution_count": 8,
   "metadata": {},
   "outputs": [],
   "source": [
    "V_xy = Poly({\n",
    "    power(x, 2): a,x: b,y: c         \n",
    "})"
   ]
  },
  {
   "cell_type": "code",
   "execution_count": 9,
   "metadata": {},
   "outputs": [
    {
     "name": "stdout",
     "output_type": "stream",
     "text": [
      "1*x^2 + 1*x + 1*y\n"
     ]
    }
   ],
   "source": [
    "print(V_xy)"
   ]
  },
  {
   "cell_type": "code",
   "execution_count": 12,
   "metadata": {},
   "outputs": [
    {
     "ename": "TypeError",
     "evalue": "unsupported operand type(s) for -: 'Sym' and 'Num'",
     "output_type": "error",
     "traceback": [
      "\u001b[1;31m---------------------------------------------------------------------------\u001b[0m",
      "\u001b[1;31mTypeError\u001b[0m                                 Traceback (most recent call last)",
      "Cell \u001b[1;32mIn[12], line 8\u001b[0m\n\u001b[0;32m      6\u001b[0m \u001b[38;5;66;03m# Compute PostV for some_value\u001b[39;00m\n\u001b[0;32m      7\u001b[0m some_value \u001b[38;5;241m=\u001b[39m Sym(\u001b[38;5;124m'\u001b[39m\u001b[38;5;124msome_value\u001b[39m\u001b[38;5;124m'\u001b[39m)\n\u001b[1;32m----> 8\u001b[0m postV_result \u001b[38;5;241m=\u001b[39m \u001b[43mpost_V\u001b[49m\u001b[43m(\u001b[49m\u001b[43mV_xy\u001b[49m\u001b[43m,\u001b[49m\u001b[43m \u001b[49m\u001b[43msome_value\u001b[49m\u001b[43m)\u001b[49m\n\u001b[0;32m      9\u001b[0m \u001b[38;5;28mprint\u001b[39m(\u001b[38;5;124mf\u001b[39m\u001b[38;5;124m\"\u001b[39m\u001b[38;5;124mPostV(x) = \u001b[39m\u001b[38;5;132;01m{\u001b[39;00mpostV_result\u001b[38;5;132;01m}\u001b[39;00m\u001b[38;5;124m\"\u001b[39m)\n",
      "Cell \u001b[1;32mIn[12], line 2\u001b[0m, in \u001b[0;36mpost_V\u001b[1;34m(V, x_val)\u001b[0m\n\u001b[0;32m      1\u001b[0m \u001b[38;5;28;01mdef\u001b[39;00m \u001b[38;5;21mpost_V\u001b[39m(V, x_val):\n\u001b[1;32m----> 2\u001b[0m     V1 \u001b[38;5;241m=\u001b[39m V\u001b[38;5;241m.\u001b[39msubstitute(x, \u001b[43mx_val\u001b[49m\u001b[43m \u001b[49m\u001b[38;5;241;43m-\u001b[39;49m\u001b[43m \u001b[49m\u001b[43mNum\u001b[49m\u001b[43m(\u001b[49m\u001b[38;5;241;43m2\u001b[39;49m\u001b[43m)\u001b[49m)  \u001b[38;5;66;03m# Substitute x - 2 in V\u001b[39;00m\n\u001b[0;32m      3\u001b[0m     V2 \u001b[38;5;241m=\u001b[39m V\u001b[38;5;241m.\u001b[39msubstitute(x, x_val \u001b[38;5;241m+\u001b[39m Num(\u001b[38;5;241m1\u001b[39m))  \u001b[38;5;66;03m# Substitute x + 1 in V\u001b[39;00m\n\u001b[0;32m      4\u001b[0m     \u001b[38;5;28;01mreturn\u001b[39;00m (V1\u001b[38;5;241m.\u001b[39mmul(Poly({\u001b[38;5;28;01mNone\u001b[39;00m: Num(\u001b[38;5;241m0.5\u001b[39m)})))\u001b[38;5;241m.\u001b[39madd(V2\u001b[38;5;241m.\u001b[39mmul(Poly({\u001b[38;5;28;01mNone\u001b[39;00m: Num(\u001b[38;5;241m0.5\u001b[39m)})))\n",
      "\u001b[1;31mTypeError\u001b[0m: unsupported operand type(s) for -: 'Sym' and 'Num'"
     ]
    }
   ],
   "source": [
    "def post_V(V, x_val):\n",
    "    V1 = V.substitute(x, x_val - Num(2))  # Substitute x - 2 in V\n",
    "    V2 = V.substitute(x, x_val + Num(1))  # Substitute x + 1 in V\n",
    "    return (V1.mul(Poly({None: Num(0.5)}))).add(V2.mul(Poly({None: Num(0.5)})))\n",
    "\n",
    "# Compute PostV for some_value\n",
    "some_value = Sym('some_value')\n",
    "postV_result = post_V(V_xy, some_value)\n",
    "print(f\"PostV(x) = {postV_result}\")"
   ]
  },
  {
   "cell_type": "code",
   "execution_count": null,
   "metadata": {},
   "outputs": [],
   "source": [
    "# Define the update function (this will be a direct substitution later)\n",
    "def update_x(x_val, w):\n",
    "    return x_val + w  # Example update rule\n",
    "\n",
    "# Define PostV(x) = 0.5 * V(x - 2, a, b, c) + 0.5 * V(x + 1, a, b, c)\n",
    "def post_V(V, x_val):\n",
    "    V1 = V.substitute(x, x_val - 2)  # Substitute x - 2 in V\n",
    "    V2 = V.substitute(x, x_val + 1)  # Substitute x + 1 in V\n",
    "    return (V1.mul(Num(0.5))).add(V2.mul(Num(0.5)))  # 0.5 * V1 + 0.5 * V2\n",
    "\n",
    "# Compute PostV for x = some_value\n",
    "some_value = Sym('some_value')\n",
    "postV_result = post_V(V_xy, some_value)\n",
    "print(f\"PostV(x) = {postV_result}\")\n",
    "\n",
    "# Define Inv(x) = [x^2 + y^2 <= 10e6]\n",
    "inv_poly = Poly({\n",
    "    power(x, 2): Num(1),  # x^2\n",
    "    power(y, 2): Num(1)   # y^2\n",
    "}).sub(Poly({None: Num(10**6)}))  # -10e6\n",
    "\n",
    "# Display the invariant\n",
    "print(f\"Invariant: {inv_poly} <= 0\")\n",
    "\n",
    "# Define Target(x) = [(x-5)^2 + (y-10)^2 <= 10e2]\n",
    "target_poly = Poly({\n",
    "    power(x - Num(5), 2): Num(1),  # (x - 5)^2\n",
    "    power(y - Num(10), 2): Num(1)  # (y - 10)^2\n",
    "}).sub(Poly({None: Num(10**2)}))  # -10e2\n",
    "\n",
    "# Display the target region\n",
    "print(f\"Target: {target_poly} <= 0\")\n"
   ]
  }
 ],
 "metadata": {
  "kernelspec": {
   "display_name": "Python 3",
   "language": "python",
   "name": "python3"
  },
  "language_info": {
   "codemirror_mode": {
    "name": "ipython",
    "version": 3
   },
   "file_extension": ".py",
   "mimetype": "text/x-python",
   "name": "python",
   "nbconvert_exporter": "python",
   "pygments_lexer": "ipython3",
   "version": "3.10.3"
  }
 },
 "nbformat": 4,
 "nbformat_minor": 2
}
